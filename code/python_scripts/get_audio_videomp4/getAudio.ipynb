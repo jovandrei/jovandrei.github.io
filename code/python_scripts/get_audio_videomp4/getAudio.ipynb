{
 "cells": [
  {
   "cell_type": "code",
   "execution_count": null,
   "id": "0d3eb53e-7ba5-4077-903b-fcd6a0059565",
   "metadata": {},
   "outputs": [],
   "source": [
    "pip install moviepy\n"
   ]
  },
  {
   "cell_type": "code",
   "execution_count": 3,
   "id": "f3d77e91-c969-47d0-9d36-bc9cca4b656f",
   "metadata": {},
   "outputs": [
    {
     "name": "stdout",
     "output_type": "stream",
     "text": [
      "MoviePy - Writing audio in interview.mp3\n"
     ]
    },
    {
     "name": "stderr",
     "output_type": "stream",
     "text": [
      "                                                                        "
     ]
    },
    {
     "name": "stdout",
     "output_type": "stream",
     "text": [
      "MoviePy - Done.\n"
     ]
    },
    {
     "name": "stderr",
     "output_type": "stream",
     "text": [
      "\r"
     ]
    }
   ],
   "source": [
    "# Get audio from mp4 file\n",
    "from moviepy.editor import VideoFileClip\n",
    "\n",
    "def extract_audio(video_file_path, audio_file_path):\n",
    "    # Load the video file\n",
    "    video = VideoFileClip(video_file_path)\n",
    "    \n",
    "    # Extract audio from the video\n",
    "    audio = video.audio\n",
    "    \n",
    "    # Write the audio to a file\n",
    "    audio.write_audiofile(audio_file_path)\n",
    "\n",
    "# Usage\n",
    "#video_path = r'C:\\Users\\andry\\OneDrive\\Documentos\\Projects\\ref_files\\videos\\2024-05-06 10-30-02 pre Interview.mkv'\n",
    "video_path = r'input\\2024-05-06 10-30-02 pre Interview.mkv'\n",
    "audio_path = 'interview.mp3'\n",
    "extract_audio(video_path, audio_path)\n"
   ]
  },
  {
   "cell_type": "code",
   "execution_count": 2,
   "id": "cff57dee-21d5-429c-8db9-cb97ecc1947a",
   "metadata": {},
   "outputs": [
    {
     "name": "stdout",
     "output_type": "stream",
     "text": [
      "[youtube] Extracting URL: https://www.youtube.com/watch?v=H21U4jX_SLQ\n",
      "[youtube] H21U4jX_SLQ: Downloading webpage\n",
      "[youtube] H21U4jX_SLQ: Downloading ios player API JSON\n",
      "[youtube] H21U4jX_SLQ: Downloading android player API JSON\n"
     ]
    },
    {
     "name": "stderr",
     "output_type": "stream",
     "text": [
      "WARNING: [youtube] Skipping player responses from android clients (got player responses for video \"aQvGIIdgFDM\" instead of \"H21U4jX_SLQ\")\n"
     ]
    },
    {
     "name": "stdout",
     "output_type": "stream",
     "text": [
      "[youtube] H21U4jX_SLQ: Downloading m3u8 information\n",
      "[info] H21U4jX_SLQ: Downloading 1 format(s): 251\n",
      "[download] Destination: Python_for_devops\\downloaded_audio_Day-0 ｜ Python for DevOps Course Syllabus ｜ Learn Python from Basics ｜ #abhishekveeramalla #python.webm\n",
      "[download] 100% of   15.70MiB in 00:00:01 at 15.41MiB/s    \n",
      "[ExtractAudio] Destination: Python_for_devops\\downloaded_audio_Day-0 ｜ Python for DevOps Course Syllabus ｜ Learn Python from Basics ｜ #abhishekveeramalla #python.mp3\n",
      "Deleting original file Python_for_devops\\downloaded_audio_Day-0 ｜ Python for DevOps Course Syllabus ｜ Learn Python from Basics ｜ #abhishekveeramalla #python.webm (pass -k to keep)\n",
      "[youtube] Extracting URL: https://www.youtube.com/watch?v=AgikzDtqgIY\n",
      "[youtube] AgikzDtqgIY: Downloading webpage\n",
      "[youtube] AgikzDtqgIY: Downloading ios player API JSON\n",
      "[youtube] AgikzDtqgIY: Downloading android player API JSON\n"
     ]
    },
    {
     "name": "stderr",
     "output_type": "stream",
     "text": [
      "WARNING: [youtube] Skipping player responses from android clients (got player responses for video \"aQvGIIdgFDM\" instead of \"AgikzDtqgIY\")\n"
     ]
    },
    {
     "name": "stdout",
     "output_type": "stream",
     "text": [
      "[youtube] AgikzDtqgIY: Downloading m3u8 information\n",
      "[info] AgikzDtqgIY: Downloading 1 format(s): 251\n",
      "[download] Destination: Python_for_devops\\downloaded_audio_Day-1 ｜ Introduction to Python ｜ Shell Scripting vs Python ｜ Install and Run ｜ #abhishekveeramalla.webm\n",
      "[download] 100% of   21.42MiB in 00:00:00 at 21.57MiB/s    \n",
      "[ExtractAudio] Destination: Python_for_devops\\downloaded_audio_Day-1 ｜ Introduction to Python ｜ Shell Scripting vs Python ｜ Install and Run ｜ #abhishekveeramalla.mp3\n",
      "Deleting original file Python_for_devops\\downloaded_audio_Day-1 ｜ Introduction to Python ｜ Shell Scripting vs Python ｜ Install and Run ｜ #abhishekveeramalla.webm (pass -k to keep)\n",
      "[youtube] Extracting URL: https://www.youtube.com/watch?v=yPlC6Y3OpBM\n",
      "[youtube] yPlC6Y3OpBM: Downloading webpage\n",
      "[youtube] yPlC6Y3OpBM: Downloading ios player API JSON\n",
      "[youtube] yPlC6Y3OpBM: Downloading android player API JSON\n"
     ]
    },
    {
     "name": "stderr",
     "output_type": "stream",
     "text": [
      "WARNING: [youtube] Skipping player responses from android clients (got player responses for video \"aQvGIIdgFDM\" instead of \"yPlC6Y3OpBM\")\n"
     ]
    },
    {
     "name": "stdout",
     "output_type": "stream",
     "text": [
      "[youtube] yPlC6Y3OpBM: Downloading m3u8 information\n",
      "[info] yPlC6Y3OpBM: Downloading 1 format(s): 251\n",
      "[download] Destination: Python_for_devops\\downloaded_audio_Day-2 ｜ Data Types ｜ Strings ｜ String Handling Functions ｜ #abhishekveeramalla #python.webm\n",
      "[download] 100% of   25.60MiB in 00:00:51 at 510.29KiB/s   \n",
      "[ExtractAudio] Destination: Python_for_devops\\downloaded_audio_Day-2 ｜ Data Types ｜ Strings ｜ String Handling Functions ｜ #abhishekveeramalla #python.mp3\n",
      "Deleting original file Python_for_devops\\downloaded_audio_Day-2 ｜ Data Types ｜ Strings ｜ String Handling Functions ｜ #abhishekveeramalla #python.webm (pass -k to keep)\n",
      "[youtube] Extracting URL: https://www.youtube.com/watch?v=7sWFBuVwScM\n",
      "[youtube] 7sWFBuVwScM: Downloading webpage\n",
      "[youtube] 7sWFBuVwScM: Downloading ios player API JSON\n",
      "[youtube] 7sWFBuVwScM: Downloading android player API JSON\n"
     ]
    },
    {
     "name": "stderr",
     "output_type": "stream",
     "text": [
      "WARNING: [youtube] Skipping player responses from android clients (got player responses for video \"aQvGIIdgFDM\" instead of \"7sWFBuVwScM\")\n"
     ]
    },
    {
     "name": "stdout",
     "output_type": "stream",
     "text": [
      "[youtube] 7sWFBuVwScM: Downloading m3u8 information\n",
      "[info] 7sWFBuVwScM: Downloading 1 format(s): 251\n",
      "[download] Destination: Python_for_devops\\downloaded_audio_Day-3 ｜ Keywords, Variables & Best Practices ｜ Global vs Local ｜ #python #abhishekveeramalla.webm\n",
      "[download] 100% of   35.66MiB in 00:00:01 at 24.22MiB/s    \n",
      "[ExtractAudio] Destination: Python_for_devops\\downloaded_audio_Day-3 ｜ Keywords, Variables & Best Practices ｜ Global vs Local ｜ #python #abhishekveeramalla.mp3\n",
      "Deleting original file Python_for_devops\\downloaded_audio_Day-3 ｜ Keywords, Variables & Best Practices ｜ Global vs Local ｜ #python #abhishekveeramalla.webm (pass -k to keep)\n",
      "[youtube] Extracting URL: https://www.youtube.com/watch?v=k4EJbGI80t4\n",
      "[youtube] k4EJbGI80t4: Downloading webpage\n",
      "[youtube] k4EJbGI80t4: Downloading ios player API JSON\n",
      "[youtube] k4EJbGI80t4: Downloading android player API JSON\n"
     ]
    },
    {
     "name": "stderr",
     "output_type": "stream",
     "text": [
      "WARNING: [youtube] Skipping player responses from android clients (got player responses for video \"aQvGIIdgFDM\" instead of \"k4EJbGI80t4\")\n"
     ]
    },
    {
     "name": "stdout",
     "output_type": "stream",
     "text": [
      "[youtube] k4EJbGI80t4: Downloading m3u8 information\n",
      "[info] k4EJbGI80t4: Downloading 1 format(s): 251\n",
      "[download] Destination: Python_for_devops\\downloaded_audio_Day-4 ｜ Functions, Modules and Packages ｜ Most Simple Explanation #python  #abhishekveeramalla.webm\n",
      "[download] 100% of   52.58MiB in 00:00:04 at 11.04MiB/s    \n",
      "[ExtractAudio] Destination: Python_for_devops\\downloaded_audio_Day-4 ｜ Functions, Modules and Packages ｜ Most Simple Explanation #python  #abhishekveeramalla.mp3\n",
      "Deleting original file Python_for_devops\\downloaded_audio_Day-4 ｜ Functions, Modules and Packages ｜ Most Simple Explanation #python  #abhishekveeramalla.webm (pass -k to keep)\n",
      "[youtube] Extracting URL: https://www.youtube.com/watch?v=1tFB2ux9DWU\n",
      "[youtube] 1tFB2ux9DWU: Downloading webpage\n",
      "[youtube] 1tFB2ux9DWU: Downloading ios player API JSON\n",
      "[youtube] 1tFB2ux9DWU: Downloading android player API JSON\n"
     ]
    },
    {
     "name": "stderr",
     "output_type": "stream",
     "text": [
      "WARNING: [youtube] Skipping player responses from android clients (got player responses for video \"aQvGIIdgFDM\" instead of \"1tFB2ux9DWU\")\n"
     ]
    },
    {
     "name": "stdout",
     "output_type": "stream",
     "text": [
      "[youtube] 1tFB2ux9DWU: Downloading m3u8 information\n",
      "[info] 1tFB2ux9DWU: Downloading 1 format(s): 251\n",
      "[download] Destination: Python_for_devops\\downloaded_audio_Day-5 ｜ Command Line Args & Env Vars ｜ Most Simple Explanation #python  #abhishekveeramalla.webm\n",
      "[download] 100% of   22.92MiB in 00:00:03 at 7.30MiB/s     \n",
      "[ExtractAudio] Destination: Python_for_devops\\downloaded_audio_Day-5 ｜ Command Line Args & Env Vars ｜ Most Simple Explanation #python  #abhishekveeramalla.mp3\n",
      "Deleting original file Python_for_devops\\downloaded_audio_Day-5 ｜ Command Line Args & Env Vars ｜ Most Simple Explanation #python  #abhishekveeramalla.webm (pass -k to keep)\n",
      "[youtube] Extracting URL: https://www.youtube.com/watch?v=tvdIGMahlNM\n",
      "[youtube] tvdIGMahlNM: Downloading webpage\n",
      "[youtube] tvdIGMahlNM: Downloading ios player API JSON\n",
      "[youtube] tvdIGMahlNM: Downloading android player API JSON\n"
     ]
    },
    {
     "name": "stderr",
     "output_type": "stream",
     "text": [
      "WARNING: [youtube] Skipping player responses from android clients (got player responses for video \"aQvGIIdgFDM\" instead of \"tvdIGMahlNM\")\n"
     ]
    },
    {
     "name": "stdout",
     "output_type": "stream",
     "text": [
      "[youtube] tvdIGMahlNM: Downloading m3u8 information\n",
      "[info] tvdIGMahlNM: Downloading 1 format(s): 251\n",
      "[download] Destination: Python_for_devops\\downloaded_audio_Day-6 ｜ Operators ｜ Python for DevOps #python  #abhishekveeramalla.webm\n",
      "[download] 100% of   19.63MiB in 00:00:01 at 13.02MiB/s    \n",
      "[ExtractAudio] Destination: Python_for_devops\\downloaded_audio_Day-6 ｜ Operators ｜ Python for DevOps #python  #abhishekveeramalla.mp3\n",
      "Deleting original file Python_for_devops\\downloaded_audio_Day-6 ｜ Operators ｜ Python for DevOps #python  #abhishekveeramalla.webm (pass -k to keep)\n",
      "[youtube] Extracting URL: https://www.youtube.com/watch?v=oX1whbilkMU\n",
      "[youtube] oX1whbilkMU: Downloading webpage\n",
      "[youtube] oX1whbilkMU: Downloading ios player API JSON\n",
      "[youtube] oX1whbilkMU: Downloading android player API JSON\n"
     ]
    },
    {
     "name": "stderr",
     "output_type": "stream",
     "text": [
      "WARNING: [youtube] Skipping player responses from android clients (got player responses for video \"aQvGIIdgFDM\" instead of \"oX1whbilkMU\")\n"
     ]
    },
    {
     "name": "stdout",
     "output_type": "stream",
     "text": [
      "[youtube] oX1whbilkMU: Downloading m3u8 information\n",
      "[info] oX1whbilkMU: Downloading 1 format(s): 251\n",
      "[download] Destination: Python_for_devops\\downloaded_audio_Day-7 ｜ Conditional Handling ｜ IF, ELSE, ELSE IF ｜ Python for DevOps #python  #abhishekveeramalla.webm\n",
      "[download] 100% of   11.78MiB in 00:00:00 at 13.29MiB/s    \n",
      "[ExtractAudio] Destination: Python_for_devops\\downloaded_audio_Day-7 ｜ Conditional Handling ｜ IF, ELSE, ELSE IF ｜ Python for DevOps #python  #abhishekveeramalla.mp3\n",
      "Deleting original file Python_for_devops\\downloaded_audio_Day-7 ｜ Conditional Handling ｜ IF, ELSE, ELSE IF ｜ Python for DevOps #python  #abhishekveeramalla.webm (pass -k to keep)\n",
      "[youtube] Extracting URL: https://www.youtube.com/watch?v=icU23NuF2RU\n",
      "[youtube] icU23NuF2RU: Downloading webpage\n",
      "[youtube] icU23NuF2RU: Downloading ios player API JSON\n",
      "[youtube] icU23NuF2RU: Downloading android player API JSON\n"
     ]
    },
    {
     "name": "stderr",
     "output_type": "stream",
     "text": [
      "WARNING: [youtube] Skipping player responses from android clients (got player responses for video \"aQvGIIdgFDM\" instead of \"icU23NuF2RU\")\n"
     ]
    },
    {
     "name": "stdout",
     "output_type": "stream",
     "text": [
      "[youtube] icU23NuF2RU: Downloading m3u8 information\n",
      "[info] icU23NuF2RU: Downloading 1 format(s): 251\n",
      "[download] Destination: Python_for_devops\\downloaded_audio_Day-8 ｜ Lists and Tuples ｜ Interview Concepts ｜ Python for DevOps #python #abhishekveeramalla.webm\n",
      "[download] 100% of   30.45MiB in 00:00:02 at 13.57MiB/s    \n",
      "[ExtractAudio] Destination: Python_for_devops\\downloaded_audio_Day-8 ｜ Lists and Tuples ｜ Interview Concepts ｜ Python for DevOps #python #abhishekveeramalla.mp3\n",
      "Deleting original file Python_for_devops\\downloaded_audio_Day-8 ｜ Lists and Tuples ｜ Interview Concepts ｜ Python for DevOps #python #abhishekveeramalla.webm (pass -k to keep)\n",
      "[youtube] Extracting URL: https://www.youtube.com/watch?v=rTF7MhUFLBQ\n",
      "[youtube] rTF7MhUFLBQ: Downloading webpage\n",
      "[youtube] rTF7MhUFLBQ: Downloading ios player API JSON\n",
      "[youtube] rTF7MhUFLBQ: Downloading android player API JSON\n"
     ]
    },
    {
     "name": "stderr",
     "output_type": "stream",
     "text": [
      "WARNING: [youtube] Skipping player responses from android clients (got player responses for video \"aQvGIIdgFDM\" instead of \"rTF7MhUFLBQ\")\n"
     ]
    },
    {
     "name": "stdout",
     "output_type": "stream",
     "text": [
      "[youtube] rTF7MhUFLBQ: Downloading m3u8 information\n",
      "[info] rTF7MhUFLBQ: Downloading 1 format(s): 251\n",
      "[download] Destination: Python_for_devops\\downloaded_audio_Day-9 ｜ Loops in Python ｜ For Loop & While Loop ｜ DevOps UseCases ｜ #abhishekveeramalla.webm\n",
      "[download] 100% of   31.20MiB in 00:00:05 at 5.93MiB/s     \n",
      "[ExtractAudio] Destination: Python_for_devops\\downloaded_audio_Day-9 ｜ Loops in Python ｜ For Loop & While Loop ｜ DevOps UseCases ｜ #abhishekveeramalla.mp3\n",
      "Deleting original file Python_for_devops\\downloaded_audio_Day-9 ｜ Loops in Python ｜ For Loop & While Loop ｜ DevOps UseCases ｜ #abhishekveeramalla.webm (pass -k to keep)\n",
      "[youtube] Extracting URL: https://www.youtube.com/watch?v=cpgOgRxZ0r8\n",
      "[youtube] cpgOgRxZ0r8: Downloading webpage\n",
      "[youtube] cpgOgRxZ0r8: Downloading ios player API JSON\n",
      "[youtube] cpgOgRxZ0r8: Downloading android player API JSON\n"
     ]
    },
    {
     "name": "stderr",
     "output_type": "stream",
     "text": [
      "WARNING: [youtube] Skipping player responses from android clients (got player responses for video \"aQvGIIdgFDM\" instead of \"cpgOgRxZ0r8\")\n"
     ]
    },
    {
     "name": "stdout",
     "output_type": "stream",
     "text": [
      "[youtube] cpgOgRxZ0r8: Downloading m3u8 information\n",
      "[info] cpgOgRxZ0r8: Downloading 1 format(s): 251\n",
      "[download] Destination: Python_for_devops\\downloaded_audio_Day-10 ｜ Python For DevOps  ｜ Python Real Time UseCase with Lists & Exceptional Handling.webm\n",
      "[download] 100% of   28.33MiB in 00:00:02 at 10.93MiB/s    \n",
      "[ExtractAudio] Destination: Python_for_devops\\downloaded_audio_Day-10 ｜ Python For DevOps  ｜ Python Real Time UseCase with Lists & Exceptional Handling.mp3\n",
      "Deleting original file Python_for_devops\\downloaded_audio_Day-10 ｜ Python For DevOps  ｜ Python Real Time UseCase with Lists & Exceptional Handling.webm (pass -k to keep)\n",
      "[youtube] Extracting URL: https://www.youtube.com/watch?v=HvNU4dupQkg\n",
      "[youtube] HvNU4dupQkg: Downloading webpage\n",
      "[youtube] HvNU4dupQkg: Downloading ios player API JSON\n",
      "[youtube] HvNU4dupQkg: Downloading android player API JSON\n"
     ]
    },
    {
     "name": "stderr",
     "output_type": "stream",
     "text": [
      "WARNING: [youtube] Skipping player responses from android clients (got player responses for video \"aQvGIIdgFDM\" instead of \"HvNU4dupQkg\")\n"
     ]
    },
    {
     "name": "stdout",
     "output_type": "stream",
     "text": [
      "[youtube] HvNU4dupQkg: Downloading m3u8 information\n",
      "[info] HvNU4dupQkg: Downloading 1 format(s): 251\n",
      "[download] Destination: Python_for_devops\\downloaded_audio_Day-11 ｜ Python For DevOps ｜ Python Real Time UseCase with Dictionaries #abhishekveeramalla.webm\n",
      "[download] 100% of   40.47MiB in 00:00:01 at 21.02MiB/s    \n",
      "[ExtractAudio] Destination: Python_for_devops\\downloaded_audio_Day-11 ｜ Python For DevOps ｜ Python Real Time UseCase with Dictionaries #abhishekveeramalla.mp3\n",
      "Deleting original file Python_for_devops\\downloaded_audio_Day-11 ｜ Python For DevOps ｜ Python Real Time UseCase with Dictionaries #abhishekveeramalla.webm (pass -k to keep)\n",
      "[youtube] Extracting URL: https://www.youtube.com/watch?v=EtBlvubz8sU\n",
      "[youtube] EtBlvubz8sU: Downloading webpage\n",
      "[youtube] EtBlvubz8sU: Downloading ios player API JSON\n",
      "[youtube] EtBlvubz8sU: Downloading android player API JSON\n"
     ]
    },
    {
     "name": "stderr",
     "output_type": "stream",
     "text": [
      "WARNING: [youtube] Skipping player responses from android clients (got player responses for video \"aQvGIIdgFDM\" instead of \"EtBlvubz8sU\")\n"
     ]
    },
    {
     "name": "stdout",
     "output_type": "stream",
     "text": [
      "[youtube] EtBlvubz8sU: Downloading m3u8 information\n",
      "[info] EtBlvubz8sU: Downloading 1 format(s): 251\n",
      "[download] Destination: Python_for_devops\\downloaded_audio_Day-12 ｜ Python For DevOps ｜ Python File Operations ｜ Update Server configuration using Python.webm\n",
      "[download] 100% of   16.68MiB in 00:00:01 at 8.98MiB/s     \n",
      "[ExtractAudio] Destination: Python_for_devops\\downloaded_audio_Day-12 ｜ Python For DevOps ｜ Python File Operations ｜ Update Server configuration using Python.mp3\n",
      "Deleting original file Python_for_devops\\downloaded_audio_Day-12 ｜ Python For DevOps ｜ Python File Operations ｜ Update Server configuration using Python.webm (pass -k to keep)\n",
      "[youtube] Extracting URL: https://www.youtube.com/watch?v=3ExnySHBO6k\n",
      "[youtube] 3ExnySHBO6k: Downloading webpage\n",
      "[youtube] 3ExnySHBO6k: Downloading ios player API JSON\n",
      "[youtube] 3ExnySHBO6k: Downloading android player API JSON\n"
     ]
    },
    {
     "name": "stderr",
     "output_type": "stream",
     "text": [
      "WARNING: [youtube] Skipping player responses from android clients (got player responses for video \"aQvGIIdgFDM\" instead of \"3ExnySHBO6k\")\n"
     ]
    },
    {
     "name": "stdout",
     "output_type": "stream",
     "text": [
      "[youtube] 3ExnySHBO6k: Downloading m3u8 information\n",
      "[info] 3ExnySHBO6k: Downloading 1 format(s): 251\n",
      "[download] Destination: Python_for_devops\\downloaded_audio_Day-13 ｜ Python For DevOps ｜ Boto3 Begineer to Advanced Guide with Projects.webm\n",
      "[download] 100% of   86.96MiB in 00:00:03 at 24.70MiB/s    \n",
      "[ExtractAudio] Destination: Python_for_devops\\downloaded_audio_Day-13 ｜ Python For DevOps ｜ Boto3 Begineer to Advanced Guide with Projects.mp3\n",
      "Deleting original file Python_for_devops\\downloaded_audio_Day-13 ｜ Python For DevOps ｜ Boto3 Begineer to Advanced Guide with Projects.webm (pass -k to keep)\n",
      "[youtube] Extracting URL: https://www.youtube.com/watch?v=YVjXwyJlHgg\n",
      "[youtube] YVjXwyJlHgg: Downloading webpage\n",
      "[youtube] YVjXwyJlHgg: Downloading ios player API JSON\n",
      "[youtube] YVjXwyJlHgg: Downloading android player API JSON\n"
     ]
    },
    {
     "name": "stderr",
     "output_type": "stream",
     "text": [
      "WARNING: [youtube] Skipping player responses from android clients (got player responses for video \"aQvGIIdgFDM\" instead of \"YVjXwyJlHgg\")\n"
     ]
    },
    {
     "name": "stdout",
     "output_type": "stream",
     "text": [
      "[youtube] YVjXwyJlHgg: Downloading m3u8 information\n",
      "[info] YVjXwyJlHgg: Downloading 1 format(s): 251\n",
      "[download] Destination: Python_for_devops\\downloaded_audio_Day 14 ｜ Python For DevOps ｜ Automate JIRA Creation on a Github Event using Python.webm\n",
      "[download] 100% of   33.84MiB in 00:00:02 at 15.90MiB/s    \n",
      "[ExtractAudio] Destination: Python_for_devops\\downloaded_audio_Day 14 ｜ Python For DevOps ｜ Automate JIRA Creation on a Github Event using Python.mp3\n",
      "Deleting original file Python_for_devops\\downloaded_audio_Day 14 ｜ Python For DevOps ｜ Automate JIRA Creation on a Github Event using Python.webm (pass -k to keep)\n",
      "[youtube] Extracting URL: https://www.youtube.com/watch?v=qCeb_DSD3y4\n",
      "[youtube] qCeb_DSD3y4: Downloading webpage\n",
      "[youtube] qCeb_DSD3y4: Downloading ios player API JSON\n",
      "[youtube] qCeb_DSD3y4: Downloading android player API JSON\n"
     ]
    },
    {
     "name": "stderr",
     "output_type": "stream",
     "text": [
      "WARNING: [youtube] Skipping player responses from android clients (got player responses for video \"aQvGIIdgFDM\" instead of \"qCeb_DSD3y4\")\n"
     ]
    },
    {
     "name": "stdout",
     "output_type": "stream",
     "text": [
      "[youtube] qCeb_DSD3y4: Downloading m3u8 information\n",
      "[info] qCeb_DSD3y4: Downloading 1 format(s): 251\n",
      "[download] Destination: Python_for_devops\\downloaded_audio_Day 15 - Python for DevOps ｜ Part-2 GitHub Jira Integration using Python Flask ｜ DevOps Project.webm\n",
      "[download] 100% of   40.61MiB in 00:00:01 at 22.62MiB/s    \n",
      "[ExtractAudio] Destination: Python_for_devops\\downloaded_audio_Day 15 - Python for DevOps ｜ Part-2 GitHub Jira Integration using Python Flask ｜ DevOps Project.mp3\n",
      "Deleting original file Python_for_devops\\downloaded_audio_Day 15 - Python for DevOps ｜ Part-2 GitHub Jira Integration using Python Flask ｜ DevOps Project.webm (pass -k to keep)\n",
      "[youtube] Extracting URL: https://www.youtube.com/watch?v=UzILixH4Odw\n",
      "[youtube] UzILixH4Odw: Downloading webpage\n",
      "[youtube] UzILixH4Odw: Downloading ios player API JSON\n",
      "[youtube] UzILixH4Odw: Downloading android player API JSON\n"
     ]
    },
    {
     "name": "stderr",
     "output_type": "stream",
     "text": [
      "WARNING: [youtube] Skipping player responses from android clients (got player responses for video \"aQvGIIdgFDM\" instead of \"UzILixH4Odw\")\n"
     ]
    },
    {
     "name": "stdout",
     "output_type": "stream",
     "text": [
      "[youtube] UzILixH4Odw: Downloading m3u8 information\n",
      "[info] UzILixH4Odw: Downloading 1 format(s): 251\n",
      "[download] Destination: Python_for_devops\\downloaded_audio_Day-16 ｜ Beginner & Intermediate Level Python Interview Q&A for DevOps ｜.webm\n",
      "[download] 100% of   26.75MiB in 00:00:04 at 6.12MiB/s     \n",
      "[ExtractAudio] Destination: Python_for_devops\\downloaded_audio_Day-16 ｜ Beginner & Intermediate Level Python Interview Q&A for DevOps ｜.mp3\n",
      "Deleting original file Python_for_devops\\downloaded_audio_Day-16 ｜ Beginner & Intermediate Level Python Interview Q&A for DevOps ｜.webm (pass -k to keep)\n",
      "[youtube] Extracting URL: https://www.youtube.com/watch?v=CqL2QJadi_I\n",
      "[youtube] CqL2QJadi_I: Downloading webpage\n",
      "[youtube] CqL2QJadi_I: Downloading ios player API JSON\n",
      "[youtube] CqL2QJadi_I: Downloading android player API JSON\n"
     ]
    },
    {
     "name": "stderr",
     "output_type": "stream",
     "text": [
      "WARNING: [youtube] Skipping player responses from android clients (got player responses for video \"aQvGIIdgFDM\" instead of \"CqL2QJadi_I\")\n"
     ]
    },
    {
     "name": "stdout",
     "output_type": "stream",
     "text": [
      "[youtube] CqL2QJadi_I: Downloading m3u8 information\n",
      "[info] CqL2QJadi_I: Downloading 1 format(s): 251\n",
      "[download] Destination: Python_for_devops\\downloaded_audio_Learn Python in just 1 day ｜ Python Course for Beginners with Projects #abhishekveeramalla.webm\n",
      "[download] 100% of  501.32MiB in 00:00:36 at 13.88MiB/s    \n",
      "[ExtractAudio] Destination: Python_for_devops\\downloaded_audio_Learn Python in just 1 day ｜ Python Course for Beginners with Projects #abhishekveeramalla.mp3\n",
      "Deleting original file Python_for_devops\\downloaded_audio_Learn Python in just 1 day ｜ Python Course for Beginners with Projects #abhishekveeramalla.webm (pass -k to keep)\n",
      "Download and conversion complete. File saved as downloaded_audio.mp3\n"
     ]
    }
   ],
   "source": [
    "# get audio from youtube video and save it to downloaded_audio.mp3\n",
    "import yt_dlp\n",
    "\n",
    "video_urls = [\n",
    "                'https://www.youtube.com/watch?v=H21U4jX_SLQ',\n",
    "                'https://www.youtube.com/watch?v=AgikzDtqgIY',\n",
    "                'https://www.youtube.com/watch?v=yPlC6Y3OpBM',\n",
    "                'https://www.youtube.com/watch?v=7sWFBuVwScM',\n",
    "                'https://www.youtube.com/watch?v=k4EJbGI80t4',\n",
    "                'https://www.youtube.com/watch?v=1tFB2ux9DWU',\n",
    "                'https://www.youtube.com/watch?v=tvdIGMahlNM',\n",
    "                'https://www.youtube.com/watch?v=oX1whbilkMU',\n",
    "                'https://www.youtube.com/watch?v=icU23NuF2RU',\n",
    "                'https://www.youtube.com/watch?v=rTF7MhUFLBQ',\n",
    "                'https://www.youtube.com/watch?v=cpgOgRxZ0r8',\n",
    "                'https://www.youtube.com/watch?v=HvNU4dupQkg',\n",
    "                'https://www.youtube.com/watch?v=EtBlvubz8sU',\n",
    "                'https://www.youtube.com/watch?v=3ExnySHBO6k',\n",
    "                'https://www.youtube.com/watch?v=YVjXwyJlHgg',\n",
    "                'https://www.youtube.com/watch?v=qCeb_DSD3y4',\n",
    "                'https://www.youtube.com/watch?v=UzILixH4Odw',\n",
    "                'https://www.youtube.com/watch?v=CqL2QJadi_I',\n",
    "             ]\n",
    "\n",
    "ydl_opts = {\n",
    "    'format': 'bestaudio/best',\n",
    "    'postprocessors': [{\n",
    "        'key': 'FFmpegExtractAudio',\n",
    "        'preferredcodec': 'mp3',\n",
    "        'preferredquality': '192',\n",
    "    }],\n",
    "    'ffmpeg_location': r'C:\\MySoftware\\ffmpeg-2024-04-21-git-20206e14d7-essentials_build\\bin',  # Path to your ffmpeg bin\n",
    "    'outtmpl': 'Python_for_devops/downloaded_audio_%(title)s.%(ext)s',\n",
    "}\n",
    "\n",
    "with yt_dlp.YoutubeDL(ydl_opts) as ydl:\n",
    "    for video_url in video_urls:\n",
    "        ydl.download([video_url])\n",
    "\n",
    "print(\"Download and conversion complete. File saved as downloaded_audio.mp3\")\n"
   ]
  },
  {
   "cell_type": "code",
   "execution_count": null,
   "id": "f835aebe-ff8f-4113-96f3-c688289d2ea4",
   "metadata": {},
   "outputs": [],
   "source": [
    "# convert audio to text (?)\n",
    "from vosk import Model, KaldiRecognizer\n",
    "import wave\n",
    "\n",
    "# Specify the path to the Vosk model you downloaded and extracted\n",
    "model_path = 'C:\\\\MySoftware\\\\vosk-model-en-us-0.22'  # Update this path if the model is in a subdirectory\n",
    "model = Model(model_path)\n",
    "\n",
    "# Open your WAV audio file\n",
    "audio_file = 'output.wav'  # Make sure this points to the converted WAV file\n",
    "wf = wave.open(audio_file, 'rb')\n",
    "\n",
    "# Create a recognizer with the model and the audio file's sample rate\n",
    "rec = KaldiRecognizer(model, wf.getframerate())\n",
    "\n",
    "results = []\n",
    "while True:\n",
    "    data = wf.readframes(4000)\n",
    "    if len(data) == 0:\n",
    "        break\n",
    "    if rec.AcceptWaveform(data):\n",
    "        results.append(rec.Result())\n",
    "\n",
    "results.append(rec.FinalResult())\n",
    "\n",
    "# Print results\n",
    "for result in results:\n",
    "    print(result)\n"
   ]
  },
  {
   "cell_type": "code",
   "execution_count": 9,
   "id": "b4021ee4-7b69-4566-9ea7-759f217748cc",
   "metadata": {},
   "outputs": [
    {
     "data": {
      "text/plain": [
       "<_io.BufferedRandom name='output.wav'>"
      ]
     },
     "execution_count": 9,
     "metadata": {},
     "output_type": "execute_result"
    }
   ],
   "source": [
    "from pydub import AudioSegment\n",
    "\n",
    "def convert_mp3_to_wav(mp3_file_path, wav_file_path):\n",
    "    # Load the MP3 file\n",
    "    audio = AudioSegment.from_mp3(mp3_file_path)\n",
    "    \n",
    "    # Export as WAV\n",
    "    audio.export(wav_file_path, format=\"wav\")\n",
    "\n",
    "# Example usage\n",
    "convert_mp3_to_wav(\"output/video_kubernetes_yt.mp3\", \"output.wav\")\n"
   ]
  }
 ],
 "metadata": {
  "kernelspec": {
   "display_name": "Python 3 (ipykernel)",
   "language": "python",
   "name": "python3"
  },
  "language_info": {
   "codemirror_mode": {
    "name": "ipython",
    "version": 3
   },
   "file_extension": ".py",
   "mimetype": "text/x-python",
   "name": "python",
   "nbconvert_exporter": "python",
   "pygments_lexer": "ipython3",
   "version": "3.11.4"
  }
 },
 "nbformat": 4,
 "nbformat_minor": 5
}
